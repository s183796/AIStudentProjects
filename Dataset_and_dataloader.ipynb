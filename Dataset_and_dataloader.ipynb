{
  "nbformat": 4,
  "nbformat_minor": 0,
  "metadata": {
    "colab": {
      "provenance": [],
      "authorship_tag": "ABX9TyOIHg9o92WfxXBKeW+hlzn0",
      "include_colab_link": true
    },
    "kernelspec": {
      "name": "python3",
      "display_name": "Python 3"
    },
    "language_info": {
      "name": "python"
    }
  },
  "cells": [
    {
      "cell_type": "markdown",
      "metadata": {
        "id": "view-in-github",
        "colab_type": "text"
      },
      "source": [
        "<a href=\"https://colab.research.google.com/github/s183796/AIStudentProjects/blob/christine/Dataset_and_dataloader.ipynb\" target=\"_parent\"><img src=\"https://colab.research.google.com/assets/colab-badge.svg\" alt=\"Open In Colab\"/></a>"
      ]
    },
    {
      "cell_type": "code",
      "source": [
        "import torch\n",
        "import cv2\n",
        "from torch.utils.data import Dataset, DataLoader\n",
        "import torchvision.transforms as transforms\n",
        "import glob\n",
        "import os"
      ],
      "metadata": {
        "id": "WthSsGgWEXMZ"
      },
      "execution_count": 11,
      "outputs": []
    },
    {
      "cell_type": "code",
      "source": [
        "from google.colab import drive\n",
        "drive.mount('/content/drive')"
      ],
      "metadata": {
        "colab": {
          "base_uri": "https://localhost:8080/"
        },
        "id": "PdrtDj05EclD",
        "outputId": "7e126945-41e6-4296-dce4-5597af05c1fe"
      },
      "execution_count": 2,
      "outputs": [
        {
          "output_type": "stream",
          "name": "stdout",
          "text": [
            "Mounted at /content/drive\n"
          ]
        }
      ]
    },
    {
      "cell_type": "code",
      "execution_count": 3,
      "metadata": {
        "id": "A-8XYmScEEHS"
      },
      "outputs": [],
      "source": [
        "drive_path_data = 'drive/My Drive/02456_Deep_Learning/AI data/data/'\n",
        "image_paths = glob.glob(drive_path_data+\"/*.tiff\")\n",
        "drive_path_labels = 'drive/My Drive/02456_Deep_Learning/AI data/labels/'\n",
        "labels_paths = glob.glob(drive_path_labels+\"/*.tif\")"
      ]
    },
    {
      "cell_type": "code",
      "source": [
        "class SOCDataset(Dataset):\n",
        "    def __init__(self, root_dir, transform=None):\n",
        "        self.root_dir = root_dir\n",
        "        self.image_folder = os.path.join(root_dir, 'data/')\n",
        "        self.label_folder = os.path.join(root_dir, 'labels/')\n",
        "        self.transform = transform\n",
        "\n",
        "        self.image_filenames = [f for f in os.listdir(self.image_folder) if f.endswith('.tiff')]\n",
        "        self.label_filenames = [f for f in os.listdir(self.label_folder) if f.endswith('.tif')]\n",
        "\n",
        "    def __len__(self):\n",
        "        return len(self.image_filenames)\n",
        "\n",
        "    def __getitem__(self, idx):\n",
        "      img_name = os.path.join(self.image_folder, self.image_filenames[idx])\n",
        "      label_name = os.path.join(self.label_folder, self.label_filenames[idx])\n",
        "\n",
        "      image = cv2.imread(img_name, cv2.IMREAD_GRAYSCALE)\n",
        "      label = cv2.imread(label_name, cv2.IMREAD_GRAYSCALE)\n",
        "\n",
        "      if self.transform:\n",
        "          image = self.transform(image)\n",
        "          label = self.transform(label)\n",
        "\n",
        "      return image, label"
      ],
      "metadata": {
        "id": "MyuS_OmQEKep"
      },
      "execution_count": 4,
      "outputs": []
    },
    {
      "cell_type": "code",
      "source": [
        "transform = transforms.Compose(\n",
        "    [transforms.ToTensor(),\n",
        "     transforms.Normalize((0.5), (0.5)),  # subtract 0.5 and divide by 0.5\n",
        "    ]\n",
        ")"
      ],
      "metadata": {
        "id": "HDPNjbj6EMGH"
      },
      "execution_count": 5,
      "outputs": []
    },
    {
      "cell_type": "code",
      "source": [
        "SOC_dataset = SOCDataset(root_dir='drive/My Drive/02456_Deep_Learning/AI data/', transform = None)"
      ],
      "metadata": {
        "id": "vC2gGhRaEOSV"
      },
      "execution_count": 8,
      "outputs": []
    },
    {
      "cell_type": "code",
      "source": [
        "len(SOC_dataset)"
      ],
      "metadata": {
        "colab": {
          "base_uri": "https://localhost:8080/"
        },
        "id": "UNepQM9mEQX2",
        "outputId": "e3516cc9-ce49-4da0-8451-759a25a40e43"
      },
      "execution_count": 9,
      "outputs": [
        {
          "output_type": "execute_result",
          "data": {
            "text/plain": [
              "500"
            ]
          },
          "metadata": {},
          "execution_count": 9
        }
      ]
    },
    {
      "cell_type": "code",
      "source": [
        "# Test the __getitem__ method for a few sample indices\n",
        "sample_indices = [0, 10, 20]  # You can choose any indices within the dataset length\n",
        "\n",
        "for idx in sample_indices:\n",
        "    image, label = SOC_dataset[idx]\n",
        "\n",
        "    # Perform any necessary checks or assertions here\n",
        "    print(f\"Sample {idx}: Image shape: {image.shape}, Label shape: {label.shape}\")"
      ],
      "metadata": {
        "colab": {
          "base_uri": "https://localhost:8080/"
        },
        "id": "LfuelOYfESlj",
        "outputId": "b3197494-4c05-4619-f2f6-0af80bca8d36"
      },
      "execution_count": 12,
      "outputs": [
        {
          "output_type": "stream",
          "name": "stdout",
          "text": [
            "Sample 0: Image shape: (501, 501), Label shape: (501, 501)\n",
            "Sample 10: Image shape: (501, 501), Label shape: (501, 501)\n",
            "Sample 20: Image shape: (501, 501), Label shape: (501, 501)\n"
          ]
        }
      ]
    },
    {
      "cell_type": "code",
      "source": [
        "dataloader = DataLoader(SOC_dataset, batch_size=64, shuffle=True)"
      ],
      "metadata": {
        "id": "aoRAQD9QEvIy"
      },
      "execution_count": 13,
      "outputs": []
    },
    {
      "cell_type": "code",
      "source": [],
      "metadata": {
        "id": "sahk1YQhE7F9"
      },
      "execution_count": null,
      "outputs": []
    }
  ]
}